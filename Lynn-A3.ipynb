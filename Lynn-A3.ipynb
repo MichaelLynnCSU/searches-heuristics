{
 "cells": [
  {
   "cell_type": "markdown",
   "metadata": {},
   "source": [
    "# A3: A\\*, IDS, and Effective Branching Factor"
   ]
  },
  {
   "cell_type": "markdown",
   "metadata": {},
   "source": [
    "Michael Lynn\n",
    "\n",
    "For this assignment, implement the Recursive Best-First Search\n",
    "implementation of the A\\* algorithm given in class.  Name this function `aStarSearch`.  Also in this notebook include your `iterativeDeepeningSearch` functions.  Define a new function named `ebf` that returns an estimate of the effective\n",
    "branching factor for a search algorithm applied to a search problem.\n",
    "\n",
    "So, the required functions are\n",
    "\n",
    "   - `aStarSearch(startState, actionsF, takeActionF, goalTestF, hF)`\n",
    "   - `iterativeDeepeningSearch(startState, goalState, actionsF, takeActionF, maxDepth)`\n",
    "   - `ebf(nNodes, depth, precision=0.01)`, returns number of nodes expanded and depth reached during a search.\n",
    "\n",
    "Apply `iterativeDeepeningSearch` and `aStarSearch` to several eight-tile sliding puzzle\n",
    "problems. For this you must include your implementations of these functions, from Assignment 2:\n",
    "\n",
    "  * `actionsF_8p(state)`: returns a list of up to four valid actions that can be applied in `state`. With each action include a step cost of 1. For example, if all four actions are possible from this state, return [('left', 1), ('right', 1), ('up', 1), ('down', 1)].\n",
    "  * `takeActionF_8p(state, action)`: return the state that results from applying `action` in `state` and the cost of the one step,\n",
    "  \n",
    "plus the following function for the eight-tile puzzle:\n",
    "\n",
    "  * `goalTestF_8p(state, goal)`\n",
    "  \n",
    "Compare their results by displayng\n",
    "solution path depth, number of nodes \n",
    "generated, and the effective branching factor, and discuss the results.  Do this by defining the following function that prints the table as shown in the example below.\n",
    "\n",
    "   - runExperiment(goalState1, goalState2, goalState3, [h1, h2, h3])\n",
    "   \n",
    "Define this function so it takes any number of $h$ functions in the list that is the fourth argument."
   ]
  },
  {
   "cell_type": "markdown",
   "metadata": {},
   "source": [
    "## Heuristic Functions\n",
    "\n",
    "For `aStarSearch` use the following two heuristic functions, plus one more of your own design, for a total of three heuristic functions.\n",
    "\n",
    "  * `h1_8p(state, goal)`: $h(state, goal) = 0$, for all states $state$ and all goal states $goal$,\n",
    "  * `h2_8p(state, goal)`: $h(state, goal) = m$, where $m$ is the Manhattan distance that the blank is from its goal position,\n",
    "  * `h3_8p(state, goal)`: $h(state, goal) = ?$, that you define.  It must be admissible, and not constant for all states."
   ]
  },
  {
   "cell_type": "markdown",
   "metadata": {},
   "source": [
    "## Comparison"
   ]
  },
  {
   "cell_type": "markdown",
   "metadata": {},
   "source": [
    "Apply all four algorithms (`iterativeDeepeningSearch` plus `aStarSearch` with the three heuristic\n",
    "functions) to three eight-tile puzzle problems with start state\n",
    "\n",
    "$$\n",
    "\\begin{array}{ccc}\n",
    "1 & 2 & 3\\\\\n",
    "4 & 0 & 5\\\\\n",
    "6 & 7 & 8\n",
    "\\end{array}\n",
    "$$\n",
    "\n",
    "and these three goal states.\n",
    "\n",
    "$$\n",
    "\\begin{array}{ccccccccccc}\n",
    "1 & 2 & 3  & ~~~~ & 1 & 2 & 3  &  ~~~~ & 1 & 0 &  3\\\\\n",
    "4 & 0 & 5  & & 4 & 5 & 8  & & 4 & 5 & 8\\\\\n",
    "6 & 7 & 8 &  & 6 & 0 & 7  & & 2 & 6 & 7\n",
    "\\end{array}\n",
    "$$"
   ]
  },
  {
   "cell_type": "markdown",
   "metadata": {},
   "source": [
    "Print a well-formatted table like the following.  Try to match this\n",
    "format. \n",
    "\n",
    "           [1, 2, 3, 4, 0, 5, 6, 7, 8]    [1, 2, 3, 4, 5, 8, 6, 0, 7]    [1, 0, 3, 4, 5, 8, 2, 6, 7] \n",
    "    Algorithm    Depth  Nodes  EBF              Depth  Nodes  EBF              Depth  Nodes  EBF          \n",
    "         IDS       0      0  0.000                3     43  3.086               11 225850  2.954         \n",
    "        A*h1       0      0  0.000                3    116  4.488               11 643246  3.263         \n",
    "        A*h2       0      0  0.000                3     51  3.297               11 100046  2.733         \n",
    "\n",
    "Of course you will have one more line for `h3`."
   ]
  },
  {
   "cell_type": "markdown",
   "metadata": {},
   "source": [
    "# Methods\n",
    "Methods implemented were starsearch, iterativeDeepeningSearch, runexperiement and ebf.\n",
    "The starsearch was ran against h1,h2 and h3 heuristics functions, the ebf is used to test how well the \n",
    "heuristics are with a percision of 0.01.\n",
    "\n",
    "# Obervations\n",
    "I compared the heuristcs methods to my iterativeDeepeningSearch(startState, goalState, actionsF, takeActionF, maxDepth) function. The test include the number of nodes expanded, how far the expansion extended and the effective branching factor"
   ]
  },
  {
   "cell_type": "code",
   "execution_count": 252,
   "metadata": {},
   "outputs": [],
   "source": [
    "import math\n",
    "\n",
    "\n",
    "def printState_8p(startState):\n",
    "    #print(\"printing: \",startState)\n",
    "    newList = startState.copy()\n",
    "    for i, myValue in enumerate(startState):\n",
    "        if myValue == 0:\n",
    "            #print(\"Found empty space defined by a\", myValue)\n",
    "            newList[i] = \"-\"\n",
    "\n",
    "\n",
    "    print(\" \".join(map(str,newList[0:3])))\n",
    "    print(\" \".join(map(str,newList[3:6])))\n",
    "    print(\" \".join(map(str,newList[6:9])))\n",
    "\n",
    "\n",
    "def actionsF_8p(startState):\n",
    "    # get coord of my current position\n",
    "    myEmptyCoord = findBlank_8p(startState)\n",
    "    yPos = myEmptyCoord[0]\n",
    "    xPos = myEmptyCoord[1]\n",
    "    myMoves = []\n",
    "\n",
    "    # possible moves from current positionn\n",
    "    if xPos > 0:\n",
    "        item = \"left\",1\n",
    "        myMoves.append(item)\n",
    "\n",
    "    if xPos < 2:\n",
    "        item = \"right\",1\n",
    "        myMoves.append(item)\n",
    "\n",
    "    if yPos > 0:\n",
    "        item = \"up\",1\n",
    "        myMoves.append(item)\n",
    "\n",
    "    if yPos < 2:\n",
    "        item = \"down\",1\n",
    "        myMoves.append(item)\n",
    "\n",
    "    return myMoves\n",
    "\n",
    "def findBlank_8p(startState):\n",
    "\n",
    "     # get coord of my current position\n",
    "    xPos = startState.index(0)\n",
    "    yPos = 0\n",
    "\n",
    "    #  row/ col position only works for a 3x3(hard coded)\n",
    "    if xPos >= 0 and xPos <= 2:\n",
    "        #print(\"coorindartes of the empty space are (y,x)\", 0, xPos)\n",
    "        return (yPos, xPos)\n",
    "\n",
    "    if xPos >= 3 and xPos <= 5:\n",
    "        rowOffset = xPos - 3\n",
    "        #print(\"coorindartes of the empty space are (y,x)\",1, rowOffset)\n",
    "        return (yPos + 1, rowOffset)\n",
    "\n",
    "    if xPos >= 6 and xPos <= 8:\n",
    "        rowOffset = xPos - 6\n",
    "        #print(\"coorindartes of the empty space are (y,x)\",2, rowOffset)\n",
    "        return (yPos + 2, rowOffset)\n",
    "\n",
    "\n",
    "\n",
    "def takeActionF_8p(startState, action):\n",
    "    import copy\n",
    "    myState = startState.copy()\n",
    "    rowX, colY = findBlank_8p(myState)\n",
    "    tempRow = 0\n",
    "    tempCol = 0\n",
    "    \n",
    "    if action[0] is 'left':\n",
    "        tempCol -= 1\n",
    "    elif action[0] is 'right':\n",
    "        tempCol += 1\n",
    "    elif action[0] is 'up':\n",
    "        tempRow -= 1\n",
    "    elif action[0] is 'down':\n",
    "        tempRow += 1\n",
    "       \n",
    "    offsetY, offsetC = rowX + tempRow, colY + tempCol\n",
    "    offset = offsetY * 3 + offsetC\n",
    "    offset2 = rowX  * 3 + colY\n",
    "    myState[offset2] = myState[offset]\n",
    "    offset3 = offsetY  * 3 + offsetC\n",
    "    myState[offset3] = 0\n",
    "    return (myState, 1)\n",
    "\n",
    "\n",
    "\n",
    "def printPath_8p(startState, goalState, myPath):\n",
    "    printState_8p(startState)\n",
    "    print(\"to\")\n",
    "    printState_8p(goalState)\n",
    "    print(\"is {} nodes long\".format(len(myPath)))\n",
    "    print()\n",
    "    for myMoves in myPath:\n",
    "      printState_8p(myMoves)\n",
    "      print()\n",
    "\n",
    "\n",
    "def depthLimitedSearch(startState, goalState,\n",
    "                       actionsF, takeActionF, moveLimit):\n",
    "    global itsTotal\n",
    "    if startState == goalState:\n",
    "        #print(\"baseCase hit\")\n",
    "        #printState_8p(goalState)\n",
    "        #print(\"-----------------------------\")\n",
    "        return []\n",
    "    if moveLimit == 0:\n",
    "        #print(\"moveLimit hit\")\n",
    "        return \"cutoff\"\n",
    "\n",
    "    limitReached = False\n",
    "    for myMove in actionsF(startState):\n",
    "        itsTotal += 1\n",
    "        myNewState = takeActionF(startState, myMove)[0]\n",
    "        myResult = depthLimitedSearch(myNewState, goalState,\n",
    "                                    actionsF, takeActionF, moveLimit-1)\n",
    "        if myResult is 'cutoff':\n",
    "            limitReached = True\n",
    "        elif myResult is not 'failure':\n",
    "            myResult.insert(0, myNewState)\n",
    "            return myResult\n",
    "    if limitReached:\n",
    "        return 'cutoff'\n",
    "    else:\n",
    "        return 'failure'\n",
    "\n",
    "\n",
    "\n",
    "\n",
    "def iterativeDeepeningSearch(startState, goalState, actionsF, takeActionF, myDepth):\n",
    "    #set range of recusive searching and pass it as a depthLimitedSearch parameter\n",
    "    global itsTotal\n",
    "    global itsDepth\n",
    "    itsTotal = 0\n",
    "    itsDepth = 0\n",
    "\n",
    "    for moveLimit in range(myDepth):\n",
    "        myResult = depthLimitedSearch(startState, goalState, actionsF, takeActionF, moveLimit)\n",
    "\n",
    "        #check if base case is returned\n",
    "        if myResult is not 'cutoff':\n",
    "            #print(\"base case hit\")\n",
    "            myResult.insert(0, startState)\n",
    "            itsDepth = moveLimit\n",
    "            return myResult\n",
    "\n",
    "    return \"cutoff\"\n",
    "\n",
    "def ebf(nNodes, depth, precision = 0.01):\n",
    "    if nNodes == depth:\n",
    "        return 0\n",
    "    if depth == 0:\n",
    "        return 1.0\n",
    "\n",
    "    k = 2.0\n",
    "    b = depth/k\n",
    "\n",
    "    myMin = 0.0\n",
    "    myMax = nNodes\n",
    "    myTotal = 0\n",
    "\n",
    "    myMinRange = nNodes - (nNodes*precision)\n",
    "    myMaxRange = nNodes + (nNodes*precision)\n",
    "\n",
    "    while ( not(myTotal > myMinRange and myTotal < myMaxRange)):\n",
    "        myTotal = ( (1.0-(b**(depth + 1) ) ) / (1.0 - b) )\n",
    "\n",
    "        if myTotal < nNodes:\n",
    "            myMin = b\n",
    "            b = (b + myMax) / k\n",
    "\n",
    "        if myTotal > nNodes:\n",
    "            myMax = b\n",
    "\n",
    "        b = (b + myMin) / k\n",
    "\n",
    "    return b\n",
    "\n",
    "def goalTestF_8p(state, goalState):\n",
    "    return state == goalState\n",
    "\n",
    "def goalTestF_simple(state, goalState):\n",
    "    return state == goalState\n",
    "\n",
    "def h1_8p(state, goal):\n",
    "    return 1\n",
    "\n",
    "class Node:\n",
    "    def __init__(self, state, f=0, g=0 ,h=0):\n",
    "        self.state = state\n",
    "        self.f = f\n",
    "        self.g = g\n",
    "        self.h = h\n",
    "    def __repr__(self):\n",
    "        return \"Node(\" + repr(self.state) + \", f=\" + repr(self.f) + \", g=\" + repr(self.g) + \", h=\" + repr(self.h) + \")\"\n",
    "\n",
    "def aStarSearch(startState, actionsF, takeActionF, goalTestF, Fx):\n",
    "    aStarDepth = 0\n",
    "    aStarCounter = 0\n",
    "    \n",
    "    h = Fx(startState)\n",
    "    myNodeBegin = Node(state=startState, f = 0+h, g=0, h=h)\n",
    "    \n",
    "    return StarSearch(myNodeBegin, actionsF, takeActionF, goalTestF, Fx, float('inf'))\n",
    "\n",
    "def StarSearch(myParent, actionsF, takeActionF, goalTestF, Fx, myMax):\n",
    "    aStarDepth = 0\n",
    "    aStarCounter = 0\n",
    "    \n",
    "    # base case\n",
    "    if goalTestF(myParent.state):\n",
    "        return ([myParent.state], myParent.g)\n",
    "   \n",
    "    actions = actionsF(myParent.state)\n",
    "    #f ailed base case\n",
    "    if not actions:\n",
    "        return (\"failure\", float('inf'))\n",
    "    \n",
    "    \n",
    "    \n",
    "    myChild = []   \n",
    "    for action in actions:\n",
    "        aStarCounter += 1\n",
    "        (childState, stepCost) = takeActionF(myParent.state, action)\n",
    "        \n",
    "        h = Fx(childState)\n",
    "        g = myParent.g + stepCost\n",
    "        f = max(h+g, myParent.f)\n",
    "         \n",
    "        # add actions temp to mylist\n",
    "        temp = Node(state=childState, f=f, g=g, h=h)\n",
    "        myChild.append(temp)\n",
    "        \n",
    "        \n",
    "    while True: \n",
    "        myChild.sort(key = lambda n: n.f)\n",
    "        \n",
    "        firstBest = myChild[0]\n",
    "        \n",
    "        if firstBest.f > myMax:\n",
    "            return (\"failure\",firstBest.f)\n",
    "\n",
    "        secondBest = myChild[1].f if len(myChild) > 1 else float('inf')\n",
    "        \n",
    "        #recursive search\n",
    "        result,firstBest.f = StarSearch(firstBest, actionsF, takeActionF, goalTestF,\n",
    "                                            Fx, min(myMax,secondBest))\n",
    "        if result is not \"failure\":\n",
    "            aStarDepth += 1\n",
    "            \n",
    "            result.insert(0,myParent.state)\n",
    "            \n",
    "            return (result, firstBest.f)\n",
    "\n",
    "def coloffset(colx, coly):\n",
    "\n",
    "    if colx == 0 or colx == 3 or colx == 6:\n",
    "        xy = 0\n",
    "    elif colx == 1 or colx == 4 or colx == 7:\n",
    "        xy = 1\n",
    "    else:\n",
    "        xy = 2\n",
    "    # check offset col\n",
    "    if coly == 0 or coly == 3 or coly == 6:\n",
    "        yx = 0\n",
    "    elif coly == 1 or coly == 4 or coly == 7:\n",
    "        yx = 1\n",
    "    else:\n",
    "        yx = 2\n",
    "\n",
    "    return math.fabs(yx - xy)\n",
    "\n",
    "\n",
    "def rowOffset(rowx, rowy):\n",
    "    if rowx == 0 or rowx == 1 or rowx == 2:\n",
    "        xy = 0\n",
    "    elif rowx == 3 or rowx == 4 or rowx == 5:\n",
    "        xy = 1\n",
    "    else:\n",
    "        xy = 2\n",
    "    #check offset row\n",
    "    if rowy == 0 or rowy == 1 or rowy == 2:\n",
    "        yx = 0\n",
    "    elif rowy == 3 or rowy == 4 or rowy == 5:\n",
    "        yx = 1\n",
    "    else:\n",
    "        yx = 2\n",
    "   \n",
    "    return math.fabs(yx - xy)\n",
    "\n",
    "\n",
    "\n",
    "def h1_8p(startState, goalState):\n",
    "    return 1\n",
    "\n",
    "def h3_8p(startState, goalState):\n",
    "    k = goalState[0] / 2\n",
    "    return math.fabs(startState[0] - k)\n",
    "\n",
    "def h2_8p(startState, goalState):\n",
    "    yPos = coloffset(startState[0],  goalState[0])\n",
    "    xPos = rowOffset(startState[0],  goalState[0])\n",
    "    return yPos + xPos\n",
    "\n",
    "def actionsF_simple(state):\n",
    "    succs = {'a': ['b', 'c'], 'b':['a'], 'c':['h'], 'h':['i'], 'i':['j', 'k', 'l'], 'k':['z']}\n",
    "    return [(s, 1) for s in succs.get(state, [])]\n",
    "\n",
    "def takeActionF_simple(state, action):\n",
    "    return action\n",
    "\n",
    "def goalTestF_simple(state, goalState):\n",
    "    return state == goalState\n",
    "\n",
    "def h_simple(state, goal):\n",
    "    return 1\n",
    "\n",
    "def runExperiment(goalState1, goalState2, goalState3, heuristics = []):\n",
    "    global aStarDepth\n",
    "    global aStarCounter\n",
    "    aStarDepth = 0\n",
    "    aStarCounter = 0\n",
    "    startState = [1, 0, 3, 4, 2, 5, 6, 7, 8]\n",
    "    print(\"{!s}       {!s}     {!s}\".format(goalState1, goalState2, goalState3))\n",
    "    \n",
    "    print(\"Algorithm      Depth     Nodes   EBF           Depth   Nodes   EBF               Depth     Nodes        EBF\")\n",
    "\n",
    "    k = 999999\n",
    "    k2 = 0.01\n",
    "    iterativeDeepeningSearch(startState, goalState1, actionsF_8p, takeActionF_8p, k)\n",
    "    \n",
    "    print(\"IDS \t\t\t {!s}       {!s}     {!s}\".format(itsDepth, itsTotal, round(ebf(itsTotal, itsDepth, k2), 3)), end='')\n",
    "\n",
    "    iterativeDeepeningSearch(startState, goalState2, actionsF_8p, takeActionF_8p, k)\n",
    "    print(\"            {!s}      {!s}    {!s}\".format(itsDepth, itsTotal, round(ebf(itsTotal, itsDepth, k2), 3)), end='')\n",
    "    \n",
    "\n",
    "    iterativeDeepeningSearch(startState, goalState3, actionsF_8p, takeActionF_8p, k)\n",
    "    \n",
    "    print(\"                  {!s}    {!s}      {!s}\".format(itsDepth, itsTotal, round(ebf(itsTotal, itsDepth, k2), 3)))\n",
    "    tempC = 1\n",
    "    \n",
    "    \n",
    "    \n",
    "    for H in heuristics:\n",
    "        aStarSearch(startState, actionsF_8p, takeActionF_8p, lambda go: goalTestF_simple(go, goalState1), lambda go: H(go, goalState1))\n",
    "\n",
    "        eb = round(ebf(aStarCounter, aStarDepth, k2),3)\n",
    "        print(\"{}       \t\t {!s}      {!s}     {!s}\".format(tempC, aStarDepth, aStarCounter,eb), end='')\n",
    "\n",
    "        aStarSearch(startState, actionsF_8p, takeActionF_8p, lambda go: goalTestF_simple(go, goalState2), lambda go: H(go, goalState2))\n",
    "        \n",
    "        print(\"{}       \t\t {!s}      {!s}     {!s}\".format(tempC, aStarDepth, aStarCounter,eb), end='')\n",
    "\n",
    "        aStarSearch(startState, actionsF_8p, takeActionF_8p, lambda go: goalTestF_simple(go, goalState3), lambda go: H(go, goalState3))\n",
    "        \n",
    "        print(\"{}       \t\t {!s}      {!s}     {!s}\".format(tempC, aStarDepth, aStarCounter,eb))\n",
    "        \n",
    "        tempC += 1"
   ]
  },
  {
   "cell_type": "markdown",
   "metadata": {},
   "source": [
    "First, some example output for the ebf function."
   ]
  },
  {
   "cell_type": "code",
   "execution_count": 253,
   "metadata": {},
   "outputs": [
    {
     "data": {
      "text/plain": [
       "1.6494140625"
      ]
     },
     "execution_count": 253,
     "metadata": {},
     "output_type": "execute_result"
    }
   ],
   "source": [
    "ebf(10, 3)"
   ]
  },
  {
   "cell_type": "markdown",
   "metadata": {},
   "source": [
    "The smallest argument values should be a depth of 0, and 1 node."
   ]
  },
  {
   "cell_type": "code",
   "execution_count": 254,
   "metadata": {},
   "outputs": [
    {
     "data": {
      "text/plain": [
       "1.0"
      ]
     },
     "execution_count": 254,
     "metadata": {},
     "output_type": "execute_result"
    }
   ],
   "source": [
    "ebf(1, 0)"
   ]
  },
  {
   "cell_type": "code",
   "execution_count": 255,
   "metadata": {},
   "outputs": [
    {
     "data": {
      "text/plain": [
       "0.9453125"
      ]
     },
     "execution_count": 255,
     "metadata": {},
     "output_type": "execute_result"
    }
   ],
   "source": [
    "ebf(2, 1)"
   ]
  },
  {
   "cell_type": "code",
   "execution_count": 256,
   "metadata": {},
   "outputs": [
    {
     "data": {
      "text/plain": [
       "1.0000027250498533"
      ]
     },
     "execution_count": 256,
     "metadata": {},
     "output_type": "execute_result"
    }
   ],
   "source": [
    "ebf(2, 1, precision=0.000001)"
   ]
  },
  {
   "cell_type": "code",
   "execution_count": 257,
   "metadata": {},
   "outputs": [
    {
     "data": {
      "text/plain": [
       "12.131990194320679"
      ]
     },
     "execution_count": 257,
     "metadata": {},
     "output_type": "execute_result"
    }
   ],
   "source": [
    "ebf(200000, 5)"
   ]
  },
  {
   "cell_type": "code",
   "execution_count": 258,
   "metadata": {},
   "outputs": [
    {
     "data": {
      "text/plain": [
       "1.2349419295787811"
      ]
     },
     "execution_count": 258,
     "metadata": {},
     "output_type": "execute_result"
    }
   ],
   "source": [
    "ebf(200000, 50)"
   ]
  },
  {
   "cell_type": "markdown",
   "metadata": {},
   "source": [
    "Here is a simple example using our usual simple graph search."
   ]
  },
  {
   "cell_type": "code",
   "execution_count": 259,
   "metadata": {},
   "outputs": [],
   "source": [
    "def actionsF_simple(state):\n",
    "    succs = {'a': ['b', 'c'], 'b':['a'], 'c':['h'], 'h':['i'], 'i':['j', 'k', 'l'], 'k':['z']}\n",
    "    return [(s, 1) for s in succs.get(state, [])]\n",
    "\n",
    "def takeActionF_simple(state, action):\n",
    "    return action\n",
    "\n",
    "def goalTestF_simple(state, goal):\n",
    "    return state == goal\n",
    "\n",
    "def h_simple(state, goal):\n",
    "    return 1"
   ]
  },
  {
   "cell_type": "code",
   "execution_count": 260,
   "metadata": {},
   "outputs": [
    {
     "data": {
      "text/plain": [
       "[('b', 1), ('c', 1)]"
      ]
     },
     "execution_count": 260,
     "metadata": {},
     "output_type": "execute_result"
    }
   ],
   "source": [
    "actions = actionsF_simple('a')\n",
    "actions"
   ]
  },
  {
   "cell_type": "code",
   "execution_count": 261,
   "metadata": {},
   "outputs": [
    {
     "data": {
      "text/plain": [
       "('b', 1)"
      ]
     },
     "execution_count": 261,
     "metadata": {},
     "output_type": "execute_result"
    }
   ],
   "source": [
    "takeActionF_simple('a', actions[0])"
   ]
  },
  {
   "cell_type": "code",
   "execution_count": 262,
   "metadata": {},
   "outputs": [
    {
     "data": {
      "text/plain": [
       "True"
      ]
     },
     "execution_count": 262,
     "metadata": {},
     "output_type": "execute_result"
    }
   ],
   "source": [
    "goalTestF_simple('a', 'a')"
   ]
  },
  {
   "cell_type": "code",
   "execution_count": 263,
   "metadata": {},
   "outputs": [
    {
     "data": {
      "text/plain": [
       "1"
      ]
     },
     "execution_count": 263,
     "metadata": {},
     "output_type": "execute_result"
    }
   ],
   "source": [
    "h_simple('a', 'z')"
   ]
  },
  {
   "cell_type": "code",
   "execution_count": 264,
   "metadata": {},
   "outputs": [
    {
     "data": {
      "text/plain": [
       "['a', 'c', 'h', 'i', 'k', 'z']"
      ]
     },
     "execution_count": 264,
     "metadata": {},
     "output_type": "execute_result"
    }
   ],
   "source": [
    "iterativeDeepeningSearch('a', 'z', actionsF_simple, takeActionF_simple, 10)"
   ]
  },
  {
   "cell_type": "code",
   "execution_count": 265,
   "metadata": {},
   "outputs": [
    {
     "data": {
      "text/plain": [
       "(['a', 'c', 'h', 'i', 'k', 'z'], 5)"
      ]
     },
     "execution_count": 265,
     "metadata": {},
     "output_type": "execute_result"
    }
   ],
   "source": [
    "aStarSearch('a',actionsF_simple, takeActionF_simple,\n",
    "            lambda s: goalTestF_simple(s, 'z'),\n",
    "            lambda s: h_simple(s, 'z'))"
   ]
  },
  {
   "cell_type": "markdown",
   "metadata": {},
   "source": [
    "NOT AVAILABLE YET!  Download [A3grader.tar](http://www.cs.colostate.edu/~anderson/cs440/notebooks/A3grader.tar) and extract A3grader.py from it."
   ]
  },
  {
   "cell_type": "code",
   "execution_count": 266,
   "metadata": {},
   "outputs": [
    {
     "name": "stdout",
     "output_type": "stream",
     "text": [
      "\n",
      "======================= Code Execution =======================\n",
      "\n",
      "Extracting python code from notebook named 'Lynn-A3.ipynb' and storing in notebookcode.py\n",
      "Removing all statements that are not function or class defs or import statements.\n",
      "\n",
      "Testing actionsF_8p([1, 2, 3, 4, 5, 6, 7, 0, 8])\n",
      "\n",
      "--- 5/5 points. Your actionsF_8p correctly returned [('left', 1), ('right', 1), ('up', 1)]\n",
      "\n",
      "Testing takeActionF_8p([1, 2, 3, 4, 5, 6, 7, 0, 8], (up, 1))\n",
      "\n",
      "--- 5/5 points. Your takeActionsF_8p correctly returned ([1, 2, 3, 4, 0, 6, 7, 5, 8], 1)\n",
      "\n",
      "Testing goalTestF_8p([1, 2, 3, 4, 5, 6, 7, 0, 8], [1, 2, 3, 4, 5, 6, 7, 0, 8])\n",
      "\n",
      "--- 5/5 points. Your goalTestF_8p correctly True\n",
      "\n",
      "Testing aStarSearch(1, 2, 3, 4, 5, 6, 7, 0, 8],\n",
      "                     actionsF_8p, takeActionF_8p,\n",
      "                     lambda s: goalTestF_8p(s, [0, 2, 3, 1, 4,  6, 7, 5, 8]),\n",
      "                     lambda s: h1_8p(s, [0, 2, 3, 1, 4,  6, 7, 5, 8]))\n",
      "\n",
      "--- 20/20 points. Your search correctly returned ([[1, 2, 3, 4, 5, 6, 7, 0, 8], [1, 2, 3, 4, 0, 6, 7, 5, 8], [1, 2, 3, 0, 4, 6, 7, 5, 8], [0, 2, 3, 1, 4, 6, 7, 5, 8]], 3)\n",
      "\n",
      "Testing iterativeDeepeningSearch([1, 2, 3, 4, 5, 6, 7, 0, 8], \n",
      "                                 [0, 2, 3, 1, 4,  6, 7, 5, 8],\n",
      "                                 actionsF_8p, takeActionF_8p, 10)\n",
      "\n",
      "--- 15/15 points. Your search correctly returned [[1, 2, 3, 4, 5, 6, 7, 0, 8], [1, 2, 3, 4, 0, 6, 7, 5, 8], [1, 2, 3, 0, 4, 6, 7, 5, 8], [0, 2, 3, 1, 4, 6, 7, 5, 8]]\n",
      "\n",
      "Testing iterativeDeepeningSearch([5, 2, 8, 0, 1, 4, 3, 7, 6], \n",
      "                                 [0, 2, 3, 1, 4,  6, 7, 5, 8],\n",
      "                                 actionsF_8p, takeActionF_8p, 10)\n",
      "\n",
      "--- 15/15 points. Your search correctly returned cutoff\n",
      "\n",
      "Testing ebf(200, 6, 0.1)\n",
      "\n",
      "--- 15/15 points. Your call to ebf correctly returned 2.3671875\n",
      "\n",
      "C:\\Users\\hailviral1\\Desktop\\cs440 Grade is 80/80\n",
      "\n",
      "Up to 20 more points will be given based on the quality of your descriptions of the method and the results.\n"
     ]
    }
   ],
   "source": [
    "%run -i A3grader.py"
   ]
  },
  {
   "cell_type": "code",
   "execution_count": null,
   "metadata": {},
   "outputs": [],
   "source": []
  },
  {
   "cell_type": "code",
   "execution_count": null,
   "metadata": {},
   "outputs": [],
   "source": []
  },
  {
   "cell_type": "code",
   "execution_count": null,
   "metadata": {},
   "outputs": [],
   "source": []
  },
  {
   "cell_type": "code",
   "execution_count": null,
   "metadata": {},
   "outputs": [],
   "source": []
  },
  {
   "cell_type": "code",
   "execution_count": null,
   "metadata": {},
   "outputs": [],
   "source": []
  },
  {
   "cell_type": "code",
   "execution_count": null,
   "metadata": {},
   "outputs": [],
   "source": []
  },
  {
   "cell_type": "code",
   "execution_count": null,
   "metadata": {},
   "outputs": [],
   "source": []
  }
 ],
 "metadata": {
  "anaconda-cloud": {},
  "kernelspec": {
   "display_name": "Python 3",
   "language": "python",
   "name": "python3"
  },
  "language_info": {
   "codemirror_mode": {
    "name": "ipython",
    "version": 3
   },
   "file_extension": ".py",
   "mimetype": "text/x-python",
   "name": "python",
   "nbconvert_exporter": "python",
   "pygments_lexer": "ipython3",
   "version": "3.6.5"
  }
 },
 "nbformat": 4,
 "nbformat_minor": 1
}
